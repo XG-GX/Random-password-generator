{
 "cells": [
  {
   "cell_type": "code",
   "execution_count": null,
   "id": "7491a1e1-d33a-4f0a-bef8-599c04e75fbf",
   "metadata": {},
   "outputs": [
    {
     "name": "stdout",
     "output_type": "stream",
     "text": [
      "\n",
      "-- Password generator --\n",
      "Choose option:\n",
      "1: generate password\n",
      "2: exit the program\n"
     ]
    },
    {
     "name": "stdin",
     "output_type": "stream",
     "text": [
      "Your choice:  1\n",
      "Provide password length:  5\n",
      "Use uppercase letters? (y/n):  y\n",
      "Use digits? (y/n):  n\n",
      "Use special characters? (y/n):  y\n"
     ]
    },
    {
     "name": "stdout",
     "output_type": "stream",
     "text": [
      "\n",
      "Generated password: UaSA%\n",
      "\n",
      "-- Password generator --\n",
      "Choose option:\n",
      "1: generate password\n",
      "2: exit the program\n"
     ]
    }
   ],
   "source": [
    "import random\n",
    "\n",
    "alpha = \"abcdefghijklmnopqrstuvwxyz\"\n",
    "num = \"0123456789\"\n",
    "special = \"!@#$%&*^|()_+\"\n",
    "\n",
    "def get_available_chars(include_digits, include_special):\n",
    "    available_chars = alpha\n",
    "    if include_digits:\n",
    "        available_chars += num\n",
    "    if include_special:\n",
    "        available_chars += special\n",
    "    return available_chars\n",
    "\n",
    "def generate_password(length = 16, mixed_case = False, \n",
    "                      include_digits = False, include_special = False):\n",
    "    password = []\n",
    "    available_chars = get_available_chars(include_digits, include_special)\n",
    "    \n",
    "    for i in range(length):\n",
    "        character = random.choice(available_chars)\n",
    "        \n",
    "        if mixed_case and character.isalpha():\n",
    "            change_to_upper = random.randint(0, 1)\n",
    "            if change_to_upper:\n",
    "                character = character.upper()\n",
    "                \n",
    "        password.append(character)\n",
    "    return ''.join(password)\n",
    "\n",
    "def interact_main_menu():\n",
    "    while True:\n",
    "        print('\\n-- Password generator --')\n",
    "        print('Choose option:')\n",
    "        print('1: generate password')\n",
    "        print('2: exit the program')\n",
    "        user_choice = input('Your choice: ')\n",
    "        if user_choice == '1':\n",
    "            interact_password_type()\n",
    "        elif user_choice == '2':\n",
    "            print('Bye!')\n",
    "            break\n",
    "        else:\n",
    "            print('Please enter a correct value')\n",
    "\n",
    "def interact_password_type():\n",
    "    length = int(input('Provide password length: '))\n",
    "    include_upper = input('Use uppercase letters? (y/n): ').lower().strip() == 'y'\n",
    "    include_digits = input('Use digits? (y/n): ').lower().strip() == 'y'\n",
    "    include_special = input('Use special characters? (y/n): ').lower().strip() == 'y'\n",
    "    print('\\nGenerated password:', generate_password(length, include_upper, include_digits, include_special))\n",
    "\n",
    "if __name__ == '__main__':\n",
    "    interact_main_menu()"
   ]
  },
  {
   "cell_type": "code",
   "execution_count": null,
   "id": "351ff213-2531-4e69-8862-836824f9d1aa",
   "metadata": {},
   "outputs": [],
   "source": []
  }
 ],
 "metadata": {
  "kernelspec": {
   "display_name": "Python 3 (ipykernel)",
   "language": "python",
   "name": "python3"
  },
  "language_info": {
   "codemirror_mode": {
    "name": "ipython",
    "version": 3
   },
   "file_extension": ".py",
   "mimetype": "text/x-python",
   "name": "python",
   "nbconvert_exporter": "python",
   "pygments_lexer": "ipython3",
   "version": "3.12.7"
  }
 },
 "nbformat": 4,
 "nbformat_minor": 5
}
